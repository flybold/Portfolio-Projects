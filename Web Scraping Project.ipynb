{
 "cells": [
  {
   "cell_type": "markdown",
   "id": "308034ef-3a17-4cb7-afec-43438eb05e1c",
   "metadata": {},
   "source": [
    "# Web Scraping Project"
   ]
  },
  {
   "cell_type": "markdown",
   "id": "fed33406-c585-48ea-a810-eb29094b2a67",
   "metadata": {},
   "source": [
    "In the age of information, the ability to gather and analyze real-time data is critical for making informed decisions in the financial markets.  \n",
    "This project focuses on web scraping stock information from Yahoo Finance for a curated list of major companies, including Apple, Microsoft, Netflix, Google, Nike, Adidas, and Nvidia.  \n",
    "By automating the data extraction process, we aim to collect key financial metrics such as stock prices, market capitalization, and more.  \n",
    "The scraped data is then stored in a JSON file, providing a structured and accessible format for future analysis and continuous data monitoring.  \n",
    "This project not only demonstrates the power of web scraping for financial analysis but also lays the groundwork for building a comprehensive dataset that can be used for various applications, such as predictive modeling, trend analysis, and investment strategy development."
   ]
  },
  {
   "cell_type": "code",
   "execution_count": 1,
   "id": "4512aea5-51ca-4a73-be7b-11d4ea775f4f",
   "metadata": {},
   "outputs": [],
   "source": [
    "# LIBRARY\n",
    "\n",
    "import pandas as pd\n",
    "import numpy as np\n",
    "import json\n",
    "import os\n",
    "import time\n",
    "import datetime\n",
    "import requests \n",
    "import re\n",
    "from bs4 import BeautifulSoup \n",
    "from config import user_agent\n",
    "\n",
    "# Import a user agent to make sure the website itself won't automatically classify the traffic as spam\n",
    "headers = user_agent"
   ]
  },
  {
   "cell_type": "code",
   "execution_count": 2,
   "id": "cf1c73b6-7aba-48ee-8400-d6b4de3fdf2b",
   "metadata": {},
   "outputs": [
    {
     "name": "stdout",
     "output_type": "stream",
     "text": [
      "200\n",
      "adidas AG (ADS.DE) Stock Price, News, Quote & History - Yahoo Finance\n",
      "217.10, +4.30, (+2.02%)\n"
     ]
    }
   ],
   "source": [
    "# Add the link of the website which will be parsed\n",
    "url = \"https://finance.yahoo.com/quote/ADS.DE/\"\n",
    "# Retrieve the information of the website\n",
    "response = requests.get(url, headers = headers)\n",
    "# Check if the retrieval was successfull (if status_code = 200, everything is fine)\n",
    "print(response.status_code)\n",
    "\n",
    "# Parse over the website\n",
    "soup = BeautifulSoup(response.text, \"html.parser\")\n",
    "# Print out the name of the company\n",
    "print(soup.title.text)\n",
    "\n",
    "# Find all the wanted information by parsing over the website and assign them to each variable\n",
    "price = soup.find(\"fin-streamer\", {\"data-field\" : \"regularMarketPrice\"}).text\n",
    "price_change_total = soup.find(\"fin-streamer\", {\"data-field\" : \"regularMarketChange\"}).text\n",
    "price_change_perc = soup.find(\"fin-streamer\", {\"data-field\" : \"regularMarketChangePercent\"}).text\n",
    "\n",
    "# Print the information\n",
    "print(price, price_change_total, price_change_perc, sep=\", \")"
   ]
  },
  {
   "cell_type": "markdown",
   "id": "9afbfcc6-c5b9-47c4-8840-163f9ca0deba",
   "metadata": {},
   "source": [
    "Since this was done for one single company as an example and a test, it can also be automated for a collection of several companies by creating a dictionary with all companies we want to retrieve the stock data from."
   ]
  },
  {
   "cell_type": "code",
   "execution_count": 3,
   "id": "ab9401cd-80aa-4989-99fd-82480b857266",
   "metadata": {},
   "outputs": [],
   "source": [
    "# Define all of the companies we want to fetch data from\n",
    "\n",
    "url_dict = {\"apple\" : \"https://finance.yahoo.com/quote/AAPL/\",\n",
    "             \"microsoft\" : \"https://finance.yahoo.com/quote/MSFT/\",\n",
    "             \"netflix\" : \"https://finance.yahoo.com/quote/NFLX/\",\n",
    "             \"google\" : \"https://finance.yahoo.com/quote/GOOG/\",\n",
    "             \"nike\" : \"https://finance.yahoo.com/quote/NKE/\",\n",
    "             \"adidas\" : \"https://finance.yahoo.com/quote/ADS.DE/\",\n",
    "             \"nvidia\" : \"https://finance.yahoo.com/quote/NVDA\"}"
   ]
  },
  {
   "cell_type": "code",
   "execution_count": 4,
   "id": "579370de-207b-4a2c-b1fb-f9854490a7da",
   "metadata": {},
   "outputs": [
    {
     "name": "stdout",
     "output_type": "stream",
     "text": [
      "\n",
      "Fetching data for Apple...\n",
      "Company: Apple Inc. (AAPL)\n",
      "Price: 222.66\n",
      "Total Change: +2.55\n",
      "Percentage Change: +1.16%\n",
      "\n",
      "Fetching data for Microsoft...\n",
      "Company: Microsoft Corporation (MSFT)\n",
      "Price: 423.04\n",
      "Total Change: +8.84\n",
      "Percentage Change: +2.13%\n",
      "\n",
      "Fetching data for Netflix...\n",
      "Company: Netflix, Inc. (NFLX)\n",
      "Price: 681.47\n",
      "Total Change: +7.85\n",
      "Percentage Change: +1.17%\n",
      "\n",
      "Fetching data for Google...\n",
      "Company: Alphabet Inc. (GOOG)\n",
      "Price: 152.15\n",
      "Total Change: +2.14\n",
      "Percentage Change: +1.43%\n",
      "\n",
      "Fetching data for Nike...\n",
      "Company: NIKE, Inc. (NKE)\n",
      "Price: 78.40\n",
      "Total Change: +0.31\n",
      "Percentage Change: +0.40%\n",
      "\n",
      "Fetching data for Adidas...\n",
      "Company: adidas AG (ADS.DE)\n",
      "Price: 217.10\n",
      "Total Change: +4.30\n",
      "Percentage Change: +2.02%\n",
      "\n",
      "Fetching data for Nvidia...\n",
      "Company: NVIDIA Corporation (NVDA)\n",
      "Price: 116.91\n",
      "Total Change: +8.81\n",
      "Percentage Change: +8.15%\n",
      "\n",
      "Successfully fetched data for each given company\n"
     ]
    }
   ],
   "source": [
    "# Find the current price, the total and the percentage change to the day before of the stock in the source\n",
    "\n",
    "def get_stock_info(url):\n",
    "    # Fetch text from website\n",
    "    r = requests.get(url, headers = headers)\n",
    "\n",
    "    # Check if request was successful\n",
    "    if r.status_code == 200:\n",
    "        # Parse the website\n",
    "        soup = BeautifulSoup(r.text, \"html.parser\")\n",
    "\n",
    "        # Find all necessary classes containing the relevant information for price, the percentage and the total value of growth (or decrease)\n",
    "        company_name = soup.find(\"h1\", {\"class\" : \"yf-3a2v0c\"}).text\n",
    "        price = soup.find(\"fin-streamer\", {\"data-field\" : \"regularMarketPrice\"}).text\n",
    "        total_price_change = soup.find(\"fin-streamer\", {\"data-field\" : \"regularMarketChange\"}).text\n",
    "        perc_price_change = soup.find(\"fin-streamer\", {\"data-field\" : \"regularMarketChangePercent\"}).text.strip(\"()\")\n",
    "\n",
    "        # Return all values of interest\n",
    "        return {\"Company\" : company_name,\n",
    "                \"Price\" : price, \n",
    "                \"Total_Change\" : total_price_change,\n",
    "                \"Percentage_Change\" : perc_price_change}\n",
    "\n",
    "    else:\n",
    "        print(f\"Failed to retrieve data from {url}\")\n",
    "        return None\n",
    "\n",
    "# Iterating over the dictionary which contains the companies we want to fetch the stock data from\n",
    "for company, url in url_dict.items():\n",
    "    \n",
    "    print(f\"\\nFetching data for {company.capitalize()}...\")\n",
    "    stock_info = get_stock_info(url)\n",
    "    \n",
    "    # Check if the variables price, total_price_change and perc_price_change actually contain valid alues:\n",
    "    if stock_info:\n",
    "        print(f\"Company: {stock_info['Company']}\")\n",
    "        print(f\"Price: {stock_info['Price']}\")\n",
    "        print(f\"Total Change: {stock_info['Total_Change']}\")\n",
    "        print(f\"Percentage Change: {stock_info['Percentage_Change']}\")\n",
    "    else:\n",
    "        print(f\"Failed to retrieve stock information for {company.capitalize()}.\")\n",
    "\n",
    "print(\"\\nSuccessfully fetched data for each given company\")"
   ]
  },
  {
   "cell_type": "markdown",
   "id": "f66657bf-943f-4350-8bee-e03230006050",
   "metadata": {},
   "source": [
    "Let's assume we want to retrieve the data for a portfolio a person owns, so he can automatically gain insights about the perfomance of the stocks he owns.  \n",
    "To do so, we can use implemented the implemented function which retrieves the necessary data for the companies of interest, and append those to a DataFrame for further examination."
   ]
  },
  {
   "cell_type": "code",
   "execution_count": 5,
   "id": "76d46505-cbf8-4290-a53a-1644795d019c",
   "metadata": {},
   "outputs": [],
   "source": [
    "# To make it more common, we make a slight adjustment to the function get_stock_info so he only needs to give the stock abbreviation to receive a result (i.e AAPL for Apple)\n",
    "# We also add a timestamp to see at which point we fetched the data\n",
    "def stock_data(abbreviation):\n",
    "    url = f\"https://finance.yahoo.com/quote/{abbreviation}/\"\n",
    "    r = requests.get(url, headers = headers)\n",
    "\n",
    "    # Check if request was successful\n",
    "    if r.status_code == 200:\n",
    "        # Parse the website\n",
    "        soup = BeautifulSoup(r.text, \"html.parser\")\n",
    "\n",
    "        # Create a timestamp\n",
    "        time_stamp = datetime.datetime.today().strftime(\"%Y/%m/%d %H:%M:%S\")\n",
    "\n",
    "\n",
    "        # Find all necessary classes containing the relevant information for price, the percentage and the total value of growth (or decrease)\n",
    "        company_name = soup.find(\"h1\", {\"class\" : \"yf-3a2v0c\"}).text\n",
    "        price = soup.find(\"fin-streamer\", {\"data-field\" : \"regularMarketPrice\"}).text\n",
    "        total_price_change = soup.find(\"fin-streamer\", {\"data-field\" : \"regularMarketChange\"}).text\n",
    "        perc_price_change = soup.find(\"fin-streamer\", {\"data-field\" : \"regularMarketChangePercent\"}).text.strip(\"()\")\n",
    "\n",
    "        # If we get no value, e.g in case a refreshed website, manipulate the variables in a way it can be cleaned afterwards\n",
    "        if not price or not total_price_change or not perc_price_change:\n",
    "            price = \"99999\"\n",
    "            total_price_change = \"999\"\n",
    "            perc_price_change = \"99.99\"\n",
    "\n",
    "        # Assign the values of interest to a dictionary\n",
    "        return {\"Time_Stamp\" : time_stamp,\n",
    "                \"Company\" : company_name,\n",
    "                \"Price\" : price, \n",
    "                \"Total_Change\" : total_price_change,\n",
    "                \"Percentage_Change\" : perc_price_change}\n",
    "    else:\n",
    "        print(f\"Failed to retrieve data from {abbreviation}\")\n",
    "        return None"
   ]
  },
  {
   "cell_type": "code",
   "execution_count": 6,
   "id": "c8be9035-b1a7-41ec-a634-62a7ea7abba6",
   "metadata": {},
   "outputs": [
    {
     "data": {
      "text/plain": [
       "{'Time_Stamp': '2024/09/12 12:54:35',\n",
       " 'Company': 'NVIDIA Corporation (NVDA)',\n",
       " 'Price': '116.91',\n",
       " 'Total_Change': '+8.81',\n",
       " 'Percentage_Change': '+8.15%'}"
      ]
     },
     "execution_count": 6,
     "metadata": {},
     "output_type": "execute_result"
    }
   ],
   "source": [
    "# Check if function works as intended\n",
    "stock_data(\"NVDA\")"
   ]
  },
  {
   "cell_type": "markdown",
   "id": "8e3b3d6b-004c-42d5-a6df-98d3ef9f65f8",
   "metadata": {},
   "source": [
    "Now we can turn that ```portfolio_data``` list to a json file to save the results."
   ]
  },
  {
   "cell_type": "code",
   "execution_count": 7,
   "id": "d2df8ec0-22ac-4f24-a0e8-9588dd0953f1",
   "metadata": {},
   "outputs": [],
   "source": [
    "# Dump the information to a json file to save them\n",
    "def append_data_to_json(new_data, filename=\"portfolio_data.json\"):\n",
    "    data = []\n",
    "\n",
    "    # Überprüfen, ob die Datei existiert und ob sie nicht leer ist\n",
    "    if os.path.exists(filename) and os.path.getsize(filename) > 0:\n",
    "        with open(filename, \"r\") as file:\n",
    "            try:\n",
    "                data = json.load(file)\n",
    "            except json.JSONDecodeError:\n",
    "                print(f\"Error decoding JSON from {filename}. The file might be corrupted or empty.\")\n",
    "\n",
    "    data.append(new_data)\n",
    "\n",
    "    with open(filename, \"w\") as file:\n",
    "        json.dump(data, file, indent=4)"
   ]
  },
  {
   "cell_type": "code",
   "execution_count": 8,
   "id": "b3db7cde-5435-48ae-be9b-c1e68ea54a02",
   "metadata": {},
   "outputs": [
    {
     "name": "stdout",
     "output_type": "stream",
     "text": [
      "Appended data for: AAPL\n",
      "Appended data for: MSFT\n",
      "Appended data for: NFLX\n",
      "Appended data for: GOOG\n",
      "Appended data for: NKE\n",
      "Appended data for: ADS.DE\n",
      "Appended data for: NVDA\n"
     ]
    }
   ],
   "source": [
    "# At the beginning we have to create a list with the abbreviations of the companies of interest\n",
    "portfolio = [\"AAPL\", \"MSFT\", \"NFLX\", \"GOOG\", \"NKE\", \"ADS.DE\", \"NVDA\"]\n",
    "\n",
    "# Afterwards we have to create an empty list to store the fetched data\n",
    "for item in portfolio:\n",
    "    stock_info = stock_data(item)\n",
    "    if stock_info:\n",
    "        append_data_to_json(stock_info)\n",
    "        print(f\"Appended data for: {item}\")\n",
    "    else:\n",
    "        print(f\"Failed to retrieve data for: {item}\")"
   ]
  },
  {
   "cell_type": "markdown",
   "id": "8e573ad5-ca17-491a-afd2-49c767e5f75c",
   "metadata": {},
   "source": [
    "For further investigation we load the json file into a DataFrame and take a first look at it."
   ]
  },
  {
   "cell_type": "code",
   "execution_count": 9,
   "id": "ca38665e-fb66-4dab-b7b8-99ada313c9d5",
   "metadata": {},
   "outputs": [],
   "source": [
    "# Turn the json file \"portfolio_data\" back into a dataframe\n",
    "df = pd.read_json(\"portfolio_data.json\")\n",
    "\n",
    "# Remove the abbreviations for each company \n",
    "df[\"Company\"] = df[\"Company\"].apply(lambda x: re.sub(r\"\\s+\\(.*\\)$\", \"\", x))"
   ]
  },
  {
   "cell_type": "code",
   "execution_count": 10,
   "id": "e1428d20-58df-430e-b3cb-0066185a6e38",
   "metadata": {},
   "outputs": [
    {
     "data": {
      "text/html": [
       "<div>\n",
       "<style scoped>\n",
       "    .dataframe tbody tr th:only-of-type {\n",
       "        vertical-align: middle;\n",
       "    }\n",
       "\n",
       "    .dataframe tbody tr th {\n",
       "        vertical-align: top;\n",
       "    }\n",
       "\n",
       "    .dataframe thead th {\n",
       "        text-align: right;\n",
       "    }\n",
       "</style>\n",
       "<table border=\"1\" class=\"dataframe\">\n",
       "  <thead>\n",
       "    <tr style=\"text-align: right;\">\n",
       "      <th></th>\n",
       "      <th>Time_Stamp</th>\n",
       "      <th>Company</th>\n",
       "      <th>Price</th>\n",
       "      <th>Total_Change</th>\n",
       "      <th>Percentage_Change</th>\n",
       "    </tr>\n",
       "  </thead>\n",
       "  <tbody>\n",
       "    <tr>\n",
       "      <th>79</th>\n",
       "      <td>2024/09/12 12:54:39</td>\n",
       "      <td>Netflix, Inc.</td>\n",
       "      <td>681.47</td>\n",
       "      <td>7.85</td>\n",
       "      <td>+1.17%</td>\n",
       "    </tr>\n",
       "    <tr>\n",
       "      <th>80</th>\n",
       "      <td>2024/09/12 12:54:40</td>\n",
       "      <td>Alphabet Inc.</td>\n",
       "      <td>152.15</td>\n",
       "      <td>2.14</td>\n",
       "      <td>+1.43%</td>\n",
       "    </tr>\n",
       "    <tr>\n",
       "      <th>81</th>\n",
       "      <td>2024/09/12 12:54:41</td>\n",
       "      <td>NIKE, Inc.</td>\n",
       "      <td>78.40</td>\n",
       "      <td>0.31</td>\n",
       "      <td>+0.40%</td>\n",
       "    </tr>\n",
       "    <tr>\n",
       "      <th>82</th>\n",
       "      <td>2024/09/12 12:54:42</td>\n",
       "      <td>adidas AG</td>\n",
       "      <td>217.10</td>\n",
       "      <td>4.30</td>\n",
       "      <td>+2.02%</td>\n",
       "    </tr>\n",
       "    <tr>\n",
       "      <th>83</th>\n",
       "      <td>2024/09/12 12:54:43</td>\n",
       "      <td>NVIDIA Corporation</td>\n",
       "      <td>116.91</td>\n",
       "      <td>8.81</td>\n",
       "      <td>+8.15%</td>\n",
       "    </tr>\n",
       "  </tbody>\n",
       "</table>\n",
       "</div>"
      ],
      "text/plain": [
       "             Time_Stamp             Company   Price  Total_Change  \\\n",
       "79  2024/09/12 12:54:39       Netflix, Inc.  681.47          7.85   \n",
       "80  2024/09/12 12:54:40       Alphabet Inc.  152.15          2.14   \n",
       "81  2024/09/12 12:54:41          NIKE, Inc.   78.40          0.31   \n",
       "82  2024/09/12 12:54:42           adidas AG  217.10          4.30   \n",
       "83  2024/09/12 12:54:43  NVIDIA Corporation  116.91          8.81   \n",
       "\n",
       "   Percentage_Change  \n",
       "79            +1.17%  \n",
       "80            +1.43%  \n",
       "81            +0.40%  \n",
       "82            +2.02%  \n",
       "83            +8.15%  "
      ]
     },
     "execution_count": 10,
     "metadata": {},
     "output_type": "execute_result"
    }
   ],
   "source": [
    "df.tail()"
   ]
  },
  {
   "cell_type": "markdown",
   "id": "ef0b6d72-094e-443b-873f-0a6719af412b",
   "metadata": {},
   "source": [
    "# Summary\n",
    "To summarize this small project, we manipulated the original url string of Yahoo Finance to return values of interest at any time you want to.  \n",
    "In our case we created a dictionary full of companies which was used as a foundation to showcase the functions.  \n",
    "Also, we added a time stamp which shows the date the data was fetched.  \n",
    "In the end we appended the fetched data to a json file, which will be extended with the data every time someone executes the function.  \n",
    "The advantage of this type of storage is, that it can also be retrieved at any time to conduct analyses or predictions on the dataset."
   ]
  },
  {
   "cell_type": "code",
   "execution_count": 11,
   "id": "1a5f3f24-733c-40aa-94d2-412bfa856d7f",
   "metadata": {},
   "outputs": [
    {
     "name": "stdout",
     "output_type": "stream",
     "text": [
      "Python 3.11.7\n"
     ]
    }
   ],
   "source": [
    "# Python Version\n",
    "!python --version"
   ]
  }
 ],
 "metadata": {
  "kernelspec": {
   "display_name": "Python 3 (ipykernel)",
   "language": "python",
   "name": "python3"
  },
  "language_info": {
   "codemirror_mode": {
    "name": "ipython",
    "version": 3
   },
   "file_extension": ".py",
   "mimetype": "text/x-python",
   "name": "python",
   "nbconvert_exporter": "python",
   "pygments_lexer": "ipython3",
   "version": "3.11.7"
  }
 },
 "nbformat": 4,
 "nbformat_minor": 5
}
